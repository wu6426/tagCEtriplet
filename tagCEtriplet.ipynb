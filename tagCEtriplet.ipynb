{
 "cells": [
  {
   "cell_type": "markdown",
   "id": "b0745f6b",
   "metadata": {},
   "source": [
    "1. load pakage"
   ]
  },
  {
   "cell_type": "code",
   "execution_count": 1,
   "id": "afc8a790",
   "metadata": {
    "ExecuteTime": {
     "end_time": "2021-11-29T03:04:11.583392Z",
     "start_time": "2021-11-29T03:04:11.575278Z"
    }
   },
   "outputs": [],
   "source": [
    "import numpy as np\n",
    "from itertools import combinations\n",
    "import re"
   ]
  },
  {
   "cell_type": "markdown",
   "id": "88e12895",
   "metadata": {},
   "source": [
    "2. Find index of causality"
   ]
  },
  {
   "cell_type": "code",
   "execution_count": 2,
   "id": "f2fdedd1",
   "metadata": {
    "ExecuteTime": {
     "end_time": "2021-11-29T03:15:12.225539Z",
     "start_time": "2021-11-29T03:15:12.185563Z"
    }
   },
   "outputs": [],
   "source": [
    "def find_idx(ls):\n",
    "    r = []\n",
    "    element = set(ls)\n",
    "    if 1 in element:\n",
    "        for i in re.finditer('1+', ''.join([str(i) for i in [i if i != 2 else 1 for i in ls]])):\n",
    "            r.append([i for i in range(i.start(), i.end())])\n",
    "    if 3 in element:\n",
    "        for i in re.finditer('3+', ''.join([str(i) for i in [i if i != 4 else 3 for i in ls]])):\n",
    "            r.append([i for i in range(i.start(), i.end())])\n",
    "    if 5 in element:\n",
    "        for i in re.finditer('5+', ''.join([str(i) for i in [i if i != 6 else 5 for i in ls]])):\n",
    "            r.append([i for i in range(i.start(), i.end())])\n",
    "\n",
    "    return sorted(r)\n",
    "\n",
    "\n",
    "#simple causality\n",
    "def rule_one(sw, out_degree, in_degree, idx, ls):\n",
    "    edge = []\n",
    "    c_flag, e_flag = 0, 0\n",
    "    conjunction = [',', 'and', 'or', 'also', ';','but also','both','yet','still'\n",
    "                   'as well as', 'comparable with', 'either','plus']\n",
    "    c_idx = [i.span()[0] for i in re.finditer(\n",
    "        '1', ''.join([str(i) for i in out_degree]))]\n",
    "    e_idx = [i.span()[0] for i in re.finditer(\n",
    "        '1', ''.join([str(i) for i in in_degree]))]\n",
    "    c_span = [(max(idx[c_idx[c]])+1, min(idx[c_idx[c+1]]))\n",
    "              for c in range(len(c_idx)-1)]\n",
    "    e_span = [(max(idx[e_idx[e]])+1, min(idx[e_idx[e+1]]))\n",
    "              for e in range(len(e_idx)-1)]\n",
    "    \n",
    "    for s in c_span:\n",
    "        for cjc in conjunction:\n",
    "            if cjc in ' '.join([sw[i] for i in range(s[0], s[-1], 1)]):#遍历整个句子\n",
    "                c_flag += 1\n",
    "                break\n",
    "    for s in e_span:\n",
    "        for cjc in conjunction:\n",
    "            if cjc in ' '.join([sw[i] for i in range(s[0], s[-1], 1)]):\n",
    "                e_flag += 1\n",
    "                break\n",
    "\n",
    "    # causlity inference\n",
    "    if c_flag == len(c_span) or e_flag == len(e_span) or sum(out_degree) == 1 or sum(in_degree) == 1:\n",
    "        for x in range(len(idx)):\n",
    "            if out_degree[x] > 0:\n",
    "                for z in range(len(idx)):\n",
    "                    if in_degree[z] > 0 and x != z:\n",
    "                        edge.append((x, z))\n",
    "    return edge"
   ]
  },
  {
   "cell_type": "markdown",
   "id": "2af5b22b",
   "metadata": {},
   "source": [
    "3. Check out degree and in degree"
   ]
  },
  {
   "cell_type": "code",
   "execution_count": 3,
   "id": "8310c008",
   "metadata": {
    "ExecuteTime": {
     "end_time": "2021-11-29T03:15:57.254649Z",
     "start_time": "2021-11-29T03:15:57.238644Z"
    }
   },
   "outputs": [],
   "source": [
    "def check_degree(num, edge, out_degree, in_degree):\n",
    "    out_d, in_d = [0]*num, [0]*num\n",
    "    for e in edge:\n",
    "        out_d[e[0]] = 1\n",
    "        in_d[e[-1]] = 1\n",
    "\n",
    "    if out_d == out_degree and in_d == in_degree:\n",
    "        return 1\n",
    "    else:\n",
    "        return 0"
   ]
  },
  {
   "cell_type": "markdown",
   "id": "29ee052a",
   "metadata": {},
   "source": [
    "4. Check out clause"
   ]
  },
  {
   "cell_type": "code",
   "execution_count": 4,
   "id": "06b1fe1c",
   "metadata": {
    "ExecuteTime": {
     "end_time": "2021-11-29T03:16:22.573743Z",
     "start_time": "2021-11-29T03:16:22.540795Z"
    }
   },
   "outputs": [],
   "source": [
    "def check_clause(sw, idx, out_degree, in_degree, cjc_idx, c_and_e):\n",
    "    if ',' not in sw:\n",
    "        f_flag, b_flag = 0, 0 \n",
    "        for i in range(0, cjc_idx+2, 1):\n",
    "            if out_degree[i] != out_degree[cjc_idx] or in_degree[i] != in_degree[cjc_idx]:\n",
    "                f_flag = 1\n",
    "        for i in range(cjc_idx+1, len(idx), 1):\n",
    "            if out_degree[i] != out_degree[cjc_idx] or in_degree[i] != in_degree[cjc_idx]:\n",
    "                b_flag = 1\n",
    "        if f_flag == 1 and b_flag == 1:\n",
    "            return 0\n",
    "        else:\n",
    "            return 1\n",
    "    if [','] == sw[max(idx[cjc_idx])+1:min(idx[cjc_idx+1])]:\n",
    "        if ', and' not in ' '.join(sw[min(idx[cjc_idx+1]):]) and ', plus' not in ' '.join(sw[min(idx[cjc_idx+1]):]) and ', or' not in ' '.join(sw[min(idx[cjc_idx+1]):]):\n",
    "            return 1\n",
    "    for i in c_and_e:\n",
    "        if i < cjc_idx and ',' not in sw[max(idx[i])+1:min(idx[cjc_idx])]:\n",
    "            return 0\n",
    "    return 1"
   ]
  },
  {
   "cell_type": "markdown",
   "id": "435fc578",
   "metadata": {},
   "source": [
    " 5. Check out coordinating conjunctions"
   ]
  },
  {
   "cell_type": "code",
   "execution_count": 5,
   "id": "3139c55a",
   "metadata": {
    "ExecuteTime": {
     "end_time": "2021-11-29T03:16:42.197097Z",
     "start_time": "2021-11-29T03:16:42.147230Z"
    }
   },
   "outputs": [],
   "source": [
    "def check_coordinating_cjc(sw, idx, edge, c_cjc, e_cjc, n_cjc):\n",
    "    if c_cjc != []:\n",
    "        for cj in c_cjc:\n",
    "            if [e[-1] for e in edge if e[0] == cj] != [e[-1] for e in edge if e[0] == cj+1]:\n",
    "                return 0\n",
    "    if e_cjc != []:\n",
    "        for ej in e_cjc:\n",
    "            if [e[0] for e in edge if e[1] == ej] != [e[0] for e in edge if e[1] == ej+1]:\n",
    "                return 0\n",
    "    if n_cjc != []:\n",
    "        for nj in n_cjc:\n",
    "            for e in [e[-1] for e in edge if e[0] == nj]:\n",
    "                if (nj+1, e) in edge:\n",
    "                    return 0\n",
    "            for e in [e[0] for e in edge if e[-1] == nj]:\n",
    "                if (e, nj+1) in edge:\n",
    "                    return 0            \n",
    "    conjunction = [',', 'and', 'or', 'also', ';','but also','both','yet','still'\n",
    "                   'as well as', 'comparable with', 'either','plus']\n",
    "    for e1 in edge:\n",
    "        for e2 in edge:\n",
    "            if e1 != e2:\n",
    "                if e1[0] == e2[0]:\n",
    "                    count = 0\n",
    "                    for cjc in conjunction:\n",
    "                        if cjc not in ' '.join(sw[max(idx[min(e1[1], e2[1])])+1:min(idx[max(e1[1], e2[1])])]):\n",
    "                            count += 1\n",
    "                    if count == len(conjunction):\n",
    "                        return 0\n",
    "                if e1[1] == e2[1]:\n",
    "                    count = 0\n",
    "                    for cjc in conjunction:\n",
    "                        if cjc not in ' '.join(sw[max(idx[min(e1[0], e2[0])])+1:min(idx[max(e1[0], e2[0])])]):\n",
    "                            count += 1\n",
    "                    if count == len(conjunction):\n",
    "                        return 0\n",
    "    return 1"
   ]
  },
  {
   "cell_type": "markdown",
   "id": "dcdf71b2",
   "metadata": {},
   "source": [
    "6. complex causality"
   ]
  },
  {
   "cell_type": "code",
   "execution_count": 6,
   "id": "030c613e",
   "metadata": {
    "ExecuteTime": {
     "end_time": "2021-11-29T03:18:08.067789Z",
     "start_time": "2021-11-29T03:18:08.006108Z"
    }
   },
   "outputs": [],
   "source": [
    "def rule_n(sw, ls, out_degree, in_degree, idx):\n",
    "    candidate, c_cjc, e_cjc, n_cjc = [], [], [], []\n",
    "    conjunction = [',', ';',\n",
    "                   'and', 'plus', 'also', 'to', 'then', 'of',\n",
    "                   ', and', 'and ,', 'plus ,', ', plus', ', also', 'also ,', ', of', 'of ,',\n",
    "                   '; and', 'and ;', 'plus ;', '; plus', '; also', 'also ;', '; of', 'of ;']\n",
    "    c_and_e = [i for i in range(\n",
    "        len(idx)) if out_degree[i] == 1 and in_degree[i] == 1]\n",
    "       \n",
    "    for i in range(len(idx)-1):\n",
    "        if out_degree[i] != in_degree[i] and out_degree[i+1] != in_degree[i+1]:\n",
    "            for cjc in [',', 'or', 'and', 'plus']:\n",
    "                if out_degree[i] == 1 and out_degree[i+1] == 1:\n",
    "                    if sw[max(idx[i])+1:min(idx[i+1])][-1] == cjc and check_clause(sw, idx, out_degree, in_degree, i, c_and_e):\n",
    "                        c_cjc.append(i)\n",
    "                    for ce in c_and_e:\n",
    "                        if ce < i and i not in n_cjc and ',' not in sw[max(idx[ce])+1:min(idx[i])] and ' '.join(sw[max(idx[i])+1:min(idx[i+1])]) in [', and', ', plus', ', or']:\n",
    "                            n_cjc.append(i)\n",
    "                 \n",
    "                if in_degree[i] == 1 and in_degree[i+1] == 1:\n",
    "                    if sw[max(idx[i])+1:min(idx[i+1])][-1] == cjc and check_clause(sw, idx, out_degree, in_degree, i, c_and_e):\n",
    "                        e_cjc.append(i)\n",
    "                    for ce in c_and_e:\n",
    "                        if ce < i and i not in n_cjc and ',' not in sw[max(idx[ce])+1:min(idx[i])] and ' '.join(sw[max(idx[i])+1:min(idx[i+1])]) in [', and', ', plus', ', or']:\n",
    "                            n_cjc.append(i)\n",
    "\n",
    "    for x in range(len(idx)):\n",
    "        if out_degree[x] > 0:\n",
    "            for z in range(len(idx)):\n",
    "                if in_degree[z] > 0:\n",
    "                    flag = 0\n",
    "                    if x > z:\n",
    "                        for cjc in conjunction:\n",
    "                            if cjc == ' '.join([sw[i] for i in range(max(idx[z])+1, min(idx[x]), 1)]):\n",
    "                                flag = 1\n",
    "                                break\n",
    "                        if flag == 0:\n",
    "                            candidate.append((x, z))\n",
    "                    \n",
    "                    elif x < z:\n",
    "                        for cjc in conjunction:\n",
    "                            if cjc == ' '.join([sw[i] for i in range(max(idx[x])+1, min(idx[z]), 1)]):\n",
    "                                flag = 1\n",
    "                                break\n",
    "                        if flag == 0: \n",
    "                            candidate.append((x, z))\n",
    "    record = []\n",
    "    \n",
    "    for t in range(max(sum(out_degree), sum(in_degree)), len(candidate)+1, 1):\n",
    "        flag = 0\n",
    "        for i in combinations(candidate, t):\n",
    "            if check_degree(len(idx), i, out_degree, in_degree):\n",
    "                #simple causality\n",
    "                if 5 not in ls:\n",
    "                    record.append(([np.abs(e[0]-e[1])\n",
    "                                    for e in i], list(i)))\n",
    "                    flag = 1\n",
    "                #complex causality\n",
    "                else:\n",
    "                    if check_coordinating_cjc(sw, idx, i, c_cjc, e_cjc, n_cjc):\n",
    "                        record.append(\n",
    "                            (sum([np.abs(e[0]-e[1]) for e in i]), list(i)))\n",
    "                        flag = 1\n",
    "        if flag == 1:\n",
    "            break\n",
    "    if record != []:\n",
    "        \n",
    "        #causality inference\n",
    "        for x in range(len(idx)):\n",
    "            if in_degree[x] == 0 :\n",
    "                for z in range(len(idx)):\n",
    "                    if out_degree[z] == 0 :\n",
    "                        for i in record:\n",
    "                            if i not in record:\n",
    "                                min(record)[-1].append((x,z))\n",
    "                                new_caulse = (x,z)\n",
    "        return min(record)[-1]\n",
    "        return new_caulse\n",
    "    else:\n",
    "        return 0"
   ]
  },
  {
   "cell_type": "markdown",
   "id": "de2639af",
   "metadata": {},
   "source": [
    "7. final explicit causality and inferenced causalityality"
   ]
  },
  {
   "cell_type": "code",
   "execution_count": 7,
   "id": "e8e48b1e",
   "metadata": {
    "ExecuteTime": {
     "end_time": "2021-11-29T03:18:27.519975Z",
     "start_time": "2021-11-29T03:18:27.485477Z"
    }
   },
   "outputs": [],
   "source": [
    "def final_result(ls, sw):\n",
    "    len_sen = len(sw)\n",
    "    ls = ls[:len_sen]\n",
    "    idx = find_idx(ls)\n",
    "    \n",
    "    if set(ls) == {0}:\n",
    "        return 0    \n",
    "    if idx == []:\n",
    "        return 0\n",
    "    \n",
    "    out_degree, in_degree = [0]*len(idx), [0]*len(idx)\n",
    "    for i in range(len(idx)):  \n",
    "        if ls[idx[i][0]] == 1:\n",
    "            out_degree[i] = 1\n",
    "        if ls[idx[i][0]] == 3:\n",
    "            in_degree[i] = 1\n",
    "        if ls[idx[i][0]] == 5:\n",
    "            out_degree[i] = 1\n",
    "            in_degree[i] = 1\n",
    "    \n",
    "    if sum(out_degree) == 0 or sum(in_degree) == 0:\n",
    "        return 0    \n",
    "    if 5 in ls:\n",
    "        if sum(out_degree) < 2 or sum(in_degree) < 2:\n",
    "            return 0\n",
    "        \n",
    "    Edge = []\n",
    "    #simple causality\n",
    "    if 5 not in ls:\n",
    "        c = [i for i in re.finditer(\n",
    "            '1+', ''.join([str(i) for i in out_degree]))]\n",
    "        e = [i for i in re.finditer(\n",
    "            '1+', ''.join([str(i) for i in in_degree]))]\n",
    "        if len(c) == 1 and len(e) == 1:\n",
    "            Edge = rule_one(sw, out_degree, in_degree, idx, ls)\n",
    "    \n",
    "    #complex causality\n",
    "    if 5 in ls or Edge == []:\n",
    "        Edge = rule_n(sw, ls, out_degree, in_degree, idx)\n",
    "\n",
    "    if Edge == [] or Edge == 0:\n",
    "        return 0\n",
    "    else:\n",
    "        return [[idx[ee] for ee in e] for e in Edge]"
   ]
  },
  {
   "cell_type": "code",
   "execution_count": null,
   "id": "447e4390",
   "metadata": {},
   "outputs": [],
   "source": []
  }
 ],
 "metadata": {
  "kernelspec": {
   "display_name": "tensorflow-env",
   "language": "python",
   "name": "tensorflow-env"
  },
  "language_info": {
   "codemirror_mode": {
    "name": "ipython",
    "version": 3
   },
   "file_extension": ".py",
   "mimetype": "text/x-python",
   "name": "python",
   "nbconvert_exporter": "python",
   "pygments_lexer": "ipython3",
   "version": "3.8.10"
  },
  "varInspector": {
   "cols": {
    "lenName": 16,
    "lenType": 16,
    "lenVar": 40
   },
   "kernels_config": {
    "python": {
     "delete_cmd_postfix": "",
     "delete_cmd_prefix": "del ",
     "library": "var_list.py",
     "varRefreshCmd": "print(var_dic_list())"
    },
    "r": {
     "delete_cmd_postfix": ") ",
     "delete_cmd_prefix": "rm(",
     "library": "var_list.r",
     "varRefreshCmd": "cat(var_dic_list()) "
    }
   },
   "types_to_exclude": [
    "module",
    "function",
    "builtin_function_or_method",
    "instance",
    "_Feature"
   ],
   "window_display": false
  }
 },
 "nbformat": 4,
 "nbformat_minor": 5
}
